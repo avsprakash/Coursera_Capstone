{
 "cells": [
  {
   "cell_type": "markdown",
   "metadata": {},
   "source": [
    "# Data Understanding"
   ]
  },
  {
   "cell_type": "markdown",
   "metadata": {},
   "source": [
    "<ul>\n",
    "<li>The csv file has historical data from 2004 to 2020 in Seattle area.</li>\n",
    "<li>It has 37 different attributes. </li>\n",
    "<li>Supervised machine learning algorithm will be used to train the model using this data set and predict the accident risk.</li>\n",
    "</ul>"
   ]
  },
  {
   "cell_type": "markdown",
   "metadata": {},
   "source": [
    "# Data preparation"
   ]
  },
  {
   "cell_type": "markdown",
   "metadata": {},
   "source": [
    "The data preparation includes all the required activities to construct the final dataset which will be fed into the modeling tools. \n",
    "<ul>\n",
    "    <li><b>Missing Data</b> - filling missing data like road conditions (5012 empty values)</li>\n",
    "    <li><b>Unbalanced data</b> - The number of events that correspond to fatality or severe injury are generally far fewer than the number of events relating to property damage only or minor injury. Learning from datasets that include occasional events usually provides biased classifiers: they have higher predictive accuracy over the majority class, but weaker predictive capacities over the minority class. <br>\n",
    "        One approach to handle this is oversampling - \n",
    "oversampling is used when the quantity of data is insufficient. It tries to balance dataset by increasing the size of rare samples.</li>\n",
    "</ul>"
   ]
  },
  {
   "cell_type": "code",
   "execution_count": null,
   "metadata": {},
   "outputs": [],
   "source": []
  }
 ],
 "metadata": {
  "kernelspec": {
   "display_name": "Python 3",
   "language": "python",
   "name": "python3"
  },
  "language_info": {
   "codemirror_mode": {
    "name": "ipython",
    "version": 3
   },
   "file_extension": ".py",
   "mimetype": "text/x-python",
   "name": "python",
   "nbconvert_exporter": "python",
   "pygments_lexer": "ipython3",
   "version": "3.7.6"
  }
 },
 "nbformat": 4,
 "nbformat_minor": 4
}
